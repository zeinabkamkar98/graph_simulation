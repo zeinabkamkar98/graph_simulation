{
  "cells": [
    {
      "cell_type": "markdown",
      "metadata": {
        "id": "view-in-github",
        "colab_type": "text"
      },
      "source": [
        "<a href=\"https://colab.research.google.com/github/zeinabkamkar98/graph_simulation/blob/main/graph_simulation.ipynb\" target=\"_parent\"><img src=\"https://colab.research.google.com/assets/colab-badge.svg\" alt=\"Open In Colab\"/></a>"
      ]
    },
    {
      "cell_type": "markdown",
      "source": [
        "# Step Zero\n",
        "\n",
        "Loading datasets and datasets"
      ],
      "metadata": {
        "id": "oe5tMbTP_2W6"
      }
    },
    {
      "cell_type": "markdown",
      "source": [
        "## Loading Libraries"
      ],
      "metadata": {
        "id": "9MHHgdOMmKqd"
      }
    },
    {
      "cell_type": "code",
      "execution_count": 1,
      "metadata": {
        "id": "w7T7g-GVlvS9"
      },
      "outputs": [],
      "source": [
        "import random\n",
        "import numpy as np\n",
        "\n",
        "from scipy.special import  rel_entr\n",
        "\n",
        "import networkx as nx\n",
        "from networkx.drawing import draw_networkx\n",
        "\n",
        "import matplotlib.pyplot as plt\n",
        "\n",
        "from sklearn.datasets import load_breast_cancer\n",
        "from sklearn.linear_model import LogisticRegression\n",
        "from sklearn.model_selection import train_test_split\n",
        "from sklearn.metrics import accuracy_score\n"
      ]
    },
    {
      "cell_type": "markdown",
      "source": [
        "## Importing datasets"
      ],
      "metadata": {
        "id": "Xbnc66mN8_h0"
      }
    },
    {
      "cell_type": "markdown",
      "source": [
        "**Load github datasets**\n",
        "\n",
        "If you wanna use github datasets run below cell. This datasets are limited (10 datasets), They're just for test."
      ],
      "metadata": {
        "id": "PS0GDvDR1Dl-"
      }
    },
    {
      "cell_type": "code",
      "source": [
        "graphs_name = ['DHFR','BZR','COX2','AIDS','ENZYMES','DD','MUTAG','NCI1','PROTEINS_full','PTC_MR']\n",
        "\n",
        "!git clone https://github.com/zeinabkamkar98/graph_simulation.git"
      ],
      "metadata": {
        "colab": {
          "base_uri": "https://localhost:8080/"
        },
        "id": "YrF4eKObzSb_",
        "outputId": "97542338-5646-47e1-bede-7c63f3c5c836"
      },
      "execution_count": 2,
      "outputs": [
        {
          "output_type": "stream",
          "name": "stdout",
          "text": [
            "fatal: destination path 'graph_simulation' already exists and is not an empty directory.\n"
          ]
        }
      ]
    },
    {
      "cell_type": "markdown",
      "source": [
        "## Utils\n"
      ],
      "metadata": {
        "id": "me2PsRzemOoR"
      }
    },
    {
      "cell_type": "code",
      "execution_count": 3,
      "metadata": {
        "id": "3BxkX9U6lvS-"
      },
      "outputs": [],
      "source": [
        "def read_graph_file(path):\n",
        "    G = nx.Graph()\n",
        "    data = np.loadtxt(path, delimiter=',').astype(int)\n",
        "    data_tuple = list(map(tuple, data))\n",
        "    G.add_edges_from(data_tuple)\n",
        "    return G\n",
        "\n",
        "\n",
        "def create_random_graph(nodes_count, edges_count ):\n",
        "    return nx.gnm_random_graph(nodes_count, edges_count)\n",
        "\n",
        "\n",
        "def add_features_to_graph(G: nx.Graph):\n",
        "    for node in G.nodes:\n",
        "        neighbors = G.neighbors(node)\n",
        "        degrees = [G.degree(neighbor) for neighbor in neighbors]\n",
        "        min_degree = np.min(degrees) if degrees else 0\n",
        "        max_degree = np.max(degrees) if degrees else 0\n",
        "        mean_degree = np.mean(degrees) if degrees else 0\n",
        "        median_degree = np.median(degrees) if degrees else 0\n",
        "        G.nodes[node][\"features\"] = np.array(\n",
        "            [\n",
        "                mean_degree,\n",
        "                median_degree,\n",
        "                max_degree,\n",
        "                min_degree,\n",
        "            ]\n",
        "        )\n",
        "    for edge in G.edges:\n",
        "        G.edges[edge][\"features\"] = np.zeros(5)\n",
        "        G.edges[edge][\"features\"][:2] = (\n",
        "            G.nodes[edge[0]][\"features\"][:2] + G.nodes[edge[1]][\"features\"][:2]\n",
        "        )\n",
        "\n",
        "        max_deg = max(G.nodes[edge[0]][\"features\"][2], G.nodes[edge[1]][\"features\"][2])\n",
        "        min_deg = min(G.nodes[edge[0]][\"features\"][3], G.nodes[edge[1]][\"features\"][3])\n",
        "        G.edges[edge][\"features\"][2] = max_deg\n",
        "        G.edges[edge][\"features\"][3] = min_deg\n",
        "        G.edges[edge][\"features\"][4] = max_deg - min_deg\n",
        "\n",
        "\n",
        "def calculate_divergence(g1, g2):\n",
        "    epsilon = 1e-10\n",
        "\n",
        "    g1_features_data = np.concatenate(\n",
        "        [np.array([v]) for v in nx.get_edge_attributes(g1, \"features\").values()]\n",
        "    )\n",
        "    g2_features_data = np.concatenate(\n",
        "        [np.array([v]) for v in nx.get_edge_attributes(g2, \"features\").values()]\n",
        "    )\n",
        "    feature_divergence = np.zeros(g1_features_data.shape[1])\n",
        "\n",
        "    for i in range(5):\n",
        "      data = g1_features_data[:, i] + g2_features_data[:, i]\n",
        "      hist_range = (np.min(data), np.max(data))\n",
        "      g1_hist, _ = np.histogram(g1_features_data[:, i], range = hist_range)\n",
        "      g2_hist, _ = np.histogram(g2_features_data[:, i], range = hist_range)\n",
        "      feature_divergence[i] = np.sum(\n",
        "          rel_entr(g1_hist + epsilon / (np.sum(g1_hist) + epsilon) , g2_hist + epsilon / (np.sum(g2_hist) + epsilon) )\n",
        "      )\n",
        "\n",
        "    return feature_divergence"
      ]
    },
    {
      "cell_type": "markdown",
      "source": [
        "# Step One: Calculate Features for Original Graph"
      ],
      "metadata": {
        "id": "65m2rHwzAZ95"
      }
    },
    {
      "cell_type": "markdown",
      "source": [
        "## Original graph\n",
        "\n",
        "Import original graph and calculate and features to its nodes and edges"
      ],
      "metadata": {
        "id": "kma6jnhtmWuy"
      }
    },
    {
      "cell_type": "code",
      "execution_count": 4,
      "metadata": {
        "id": "je2JBIiglvTB"
      },
      "outputs": [],
      "source": [
        "selected_graph_name= graphs_name[6]\n",
        "graph = read_graph_file('graph_simulation/DATASETS/MUTAG/MUTAG_A.txt')\n",
        "\n",
        "add_features_to_graph(graph)"
      ]
    },
    {
      "cell_type": "markdown",
      "source": [
        "Some additional outputs for checking the nodes' labels and edges' labels"
      ],
      "metadata": {
        "id": "xtgBlFse_9sB"
      }
    },
    {
      "cell_type": "code",
      "source": [
        "# node_labels = {\n",
        "#     node: f\"{node} mean:{attr['features'][0]:.3f} median:{attr['features'][1]} max:{attr['features'][2]} min:{attr['features'][3]}\"\n",
        "#     for node, attr in graph.nodes(data=True)\n",
        "# }\n",
        "\n",
        "# edge_labels = {\n",
        "#     (u, v): {\n",
        "#         \"mean\": attr[\"features\"][0],\n",
        "#         \"median\": attr[\"features\"][1],\n",
        "#         \"max\": attr[\"features\"][2],\n",
        "#         \"min\": attr[\"features\"][3],\n",
        "#         \"range\": attr[\"features\"][4]\n",
        "#     }\n",
        "#     for u, v, attr in graph.edges(data=True)\n",
        "# }\n",
        "\n",
        "# display(edge_labels)\n",
        "# display(node_labels)\n",
        "\n",
        "# display(draw_networkx(graph,  with_labels = False))"
      ],
      "metadata": {
        "id": "OIfZOFRsEHfs"
      },
      "execution_count": 5,
      "outputs": []
    },
    {
      "cell_type": "markdown",
      "source": [
        "## Complement Of Original Graph\n"
      ],
      "metadata": {
        "id": "QJ4JwDBkmbw3"
      }
    },
    {
      "cell_type": "code",
      "execution_count": 6,
      "metadata": {
        "id": "w2O0-E-flvTC"
      },
      "outputs": [],
      "source": [
        "graph_complement = nx.complement(graph)\n",
        "add_features_to_graph(graph_complement)\n"
      ]
    },
    {
      "cell_type": "code",
      "source": [
        "# node_labels = {\n",
        "#     node: f\"{node} mean:{attr['features'][0]:.3f} median:{attr['features'][1]} max:{attr['features'][2]} min:{attr['features'][3]}\"\n",
        "#     for node, attr in graph_complement.nodes(data=True)\n",
        "# }\n",
        "\n",
        "# edge_labels = {\n",
        "#     (u, v): {\n",
        "#         \"mean\": attr[\"features\"][0],\n",
        "#         \"median\": attr[\"features\"][1],\n",
        "#         \"max\": attr[\"features\"][2],\n",
        "#         \"min\": attr[\"features\"][3],\n",
        "#         \"range\": attr[\"features\"][4]\n",
        "#     }\n",
        "#     for u, v, attr in graph_complement.edges(data=True)\n",
        "# }\n",
        "\n",
        "# display(edge_labels)\n",
        "# display(node_labels)\n",
        "\n",
        "# display(draw_networkx(graph_complement,  with_labels=False))\n"
      ],
      "metadata": {
        "id": "CXAKFNSxEUwu"
      },
      "execution_count": 7,
      "outputs": []
    },
    {
      "cell_type": "markdown",
      "source": [
        "# Step Two: Simulate Graph\n",
        "\n",
        "In this step, I generated a random graph with same node and edge number of the original graph"
      ],
      "metadata": {
        "id": "RDJE748-mfVO"
      }
    },
    {
      "cell_type": "code",
      "execution_count": 10,
      "metadata": {
        "colab": {
          "base_uri": "https://localhost:8080/"
        },
        "id": "B9ZZhUyClvTC",
        "outputId": "e435027f-15b0-4dd8-9b63-721c64889fb7"
      },
      "outputs": [
        {
          "output_type": "stream",
          "name": "stdout",
          "text": [
            "simulated_graph_div 8311.068255204942\n"
          ]
        }
      ],
      "source": [
        "random_seed = random.randint(1, 1000)\n",
        "random.seed(random_seed)\n",
        "\n",
        "simulated_graph = create_random_graph(len(graph.nodes), len(graph.edges))\n",
        "add_features_to_graph(simulated_graph)\n",
        "simulated_graph_div = np.sum(calculate_divergence(graph, simulated_graph))\n",
        "print(\"simulated_graph_div\", simulated_graph_div)\n",
        "\n",
        "# simulated_graph_comp = nx.complement(simulated_graph)\n",
        "# add_features_to_graph(simulated_graph_comp)\n",
        "# simulated_graph_comp_div = np.sum(calculate_divergence(graph_complement, simulated_graph_comp))\n",
        "\n",
        "# print(\"simulated_graph_comp\", simulated_graph_comp_div)\n"
      ]
    },
    {
      "cell_type": "markdown",
      "source": [],
      "metadata": {
        "id": "rhdkIr3_GA7m"
      }
    },
    {
      "cell_type": "code",
      "source": [],
      "metadata": {
        "id": "wxollqag86fS"
      },
      "execution_count": null,
      "outputs": []
    },
    {
      "cell_type": "code",
      "source": [
        "\n",
        "# # split the train and test dataset\n",
        "# X_train, X_test,\\\n",
        "# \ty_train, y_test = train_test_split(X, y,\n",
        "# \t\t\t\t\t\t\t\t\ttest_size=0.20,\n",
        "# \t\t\t\t\t\t\t\t\trandom_state=23)\n",
        "# # LogisticRegression\n",
        "# clf = LogisticRegression(random_state=0)\n",
        "# clf.fit(X_train, y_train)\n",
        "# # Prediction\n",
        "# y_pred = clf.predict(X_test)\n",
        "\n",
        "# acc = accuracy_score(y_test, y_pred)\n",
        "# print(\"Logistic Regression model accuracy (in %):\", acc*100)\n"
      ],
      "metadata": {
        "id": "DmGpsWqCGAMc"
      },
      "execution_count": null,
      "outputs": []
    }
  ],
  "metadata": {
    "kernelspec": {
      "display_name": "py311",
      "language": "python",
      "name": "python3"
    },
    "language_info": {
      "codemirror_mode": {
        "name": "ipython",
        "version": 3
      },
      "file_extension": ".py",
      "mimetype": "text/x-python",
      "name": "python",
      "nbconvert_exporter": "python",
      "pygments_lexer": "ipython3",
      "version": "3.11.3"
    },
    "orig_nbformat": 4,
    "colab": {
      "provenance": [],
      "toc_visible": true,
      "collapsed_sections": [
        "oe5tMbTP_2W6",
        "9MHHgdOMmKqd",
        "Xbnc66mN8_h0",
        "kma6jnhtmWuy"
      ],
      "include_colab_link": true
    }
  },
  "nbformat": 4,
  "nbformat_minor": 0
}