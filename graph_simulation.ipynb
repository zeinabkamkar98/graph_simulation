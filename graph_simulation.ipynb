{
  "cells": [
    {
      "cell_type": "markdown",
      "metadata": {
        "id": "view-in-github",
        "colab_type": "text"
      },
      "source": [
        "<a href=\"https://colab.research.google.com/github/zeinabkamkar98/graph_simulation/blob/main/graph_simulation.ipynb\" target=\"_parent\"><img src=\"https://colab.research.google.com/assets/colab-badge.svg\" alt=\"Open In Colab\"/></a>"
      ]
    },
    {
      "cell_type": "markdown",
      "source": [
        "**Essential Libs**"
      ],
      "metadata": {
        "id": "9MHHgdOMmKqd"
      }
    },
    {
      "cell_type": "code",
      "execution_count": 53,
      "metadata": {
        "id": "w7T7g-GVlvS9"
      },
      "outputs": [],
      "source": [
        "import random\n",
        "import numpy as np\n",
        "\n",
        "from scipy.special import  rel_entr\n",
        "\n",
        "import networkx as nx\n",
        "from networkx.drawing import draw_networkx"
      ]
    },
    {
      "cell_type": "markdown",
      "source": [
        "**Utils**\n"
      ],
      "metadata": {
        "id": "me2PsRzemOoR"
      }
    },
    {
      "cell_type": "code",
      "execution_count": 55,
      "metadata": {
        "id": "3BxkX9U6lvS-"
      },
      "outputs": [],
      "source": [
        "def read_graph_file(path):\n",
        "    G = nx.Graph()\n",
        "    data = np.loadtxt(path, delimiter=',').astype(int)\n",
        "    data_tuple = list(map(tuple, data))\n",
        "    G.add_edges_from(data_tuple)\n",
        "    return G\n",
        "\n",
        "\n",
        "def create_random_graph(nodes_count, edges_count, seed ):\n",
        "    return nx.gnm_random_graph(nodes_count, edges_count, seed=seed)\n",
        "\n",
        "\n",
        "def add_features_to_graph(G: nx.Graph):\n",
        "    for node in G.nodes:\n",
        "        neighbors = G.neighbors(node)\n",
        "        degrees = [G.degree(neighbor) for neighbor in neighbors]\n",
        "        min_degree = np.min(degrees) if degrees else 0\n",
        "        max_degree = np.max(degrees) if degrees else 0\n",
        "        mean_degree = np.mean(degrees) if degrees else 0\n",
        "        median_degree = np.median(degrees) if degrees else 0\n",
        "        G.nodes[node][\"features\"] = np.array(\n",
        "            [\n",
        "                mean_degree,\n",
        "                median_degree,\n",
        "                max_degree,\n",
        "                min_degree,\n",
        "            ]\n",
        "        )\n",
        "    for edge in G.edges:\n",
        "        G.edges[edge][\"features\"] = np.zeros(5)\n",
        "        G.edges[edge][\"features\"][:2] = (\n",
        "            G.nodes[edge[0]][\"features\"][:2] + G.nodes[edge[1]][\"features\"][:2]\n",
        "        )\n",
        "\n",
        "        max_deg = max(G.nodes[edge[0]][\"features\"][2], G.nodes[edge[1]][\"features\"][2])\n",
        "        min_deg = min(G.nodes[edge[0]][\"features\"][3], G.nodes[edge[1]][\"features\"][3])\n",
        "        G.edges[edge][\"features\"][2] = max_deg\n",
        "        G.edges[edge][\"features\"][3] = min_deg\n",
        "        G.edges[edge][\"features\"][4] = max_deg -min_deg\n",
        "\n",
        "\n",
        "def calculate_divergence(g1, g2):\n",
        "    epsilon = 1e-10\n",
        "\n",
        "    g1_features_data = np.concatenate(\n",
        "        [np.array([v]) for v in nx.get_edge_attributes(g1, \"features\").values()]\n",
        "    )\n",
        "    g2_features_data = np.concatenate(\n",
        "        [np.array([v]) for v in nx.get_edge_attributes(g2, \"features\").values()]\n",
        "    )\n",
        "\n",
        "    feature_divergence = np.zeros(g1_features_data.shape[1])\n",
        "\n",
        "    g1_hist, _ = np.histogram(g1_features_data[:, 0], range=(2, len(g1.nodes()) * 2))\n",
        "    g2_hist, _ = np.histogram(g2_features_data[:, 0], range=(2, len(g1.nodes()) * 2))\n",
        "    feature_divergence[0] = np.sum(\n",
        "        rel_entr(g1_hist + epsilon / np.sum(g1_hist), g2_hist + epsilon / np.sum(g2_hist))\n",
        "    )  # mean\n",
        "\n",
        "    g1_hist, _ = np.histogram(g1_features_data[:, 1], range=(2, len(g1.nodes()) * 2))\n",
        "    g2_hist, _ = np.histogram(g2_features_data[:, 1], range=(2, len(g1.nodes()) * 2))\n",
        "    feature_divergence[1] = np.sum(\n",
        "        rel_entr(g1_hist + epsilon / np.sum(g1_hist), g2_hist + epsilon / np.sum(g2_hist))\n",
        "    )  # median\n",
        "\n",
        "    g1_hist, _ = np.histogram(g1_features_data[:, 2], range=(1, len(g1.nodes())))\n",
        "    g2_hist, _ = np.histogram(g2_features_data[:, 2], range=(1, len(g1.nodes())))\n",
        "    feature_divergence[2] = np.sum(\n",
        "        rel_entr(g1_hist + epsilon / np.sum(g1_hist), g2_hist + epsilon / np.sum(g2_hist))\n",
        "    )  # max\n",
        "\n",
        "    g1_hist, _ = np.histogram(g1_features_data[:, 3], range=(1, len(g1.nodes())))\n",
        "    g2_hist, _ = np.histogram(g2_features_data[:, 3], range=(1, len(g1.nodes())))\n",
        "    feature_divergence[3] = np.sum(\n",
        "        rel_entr(g1_hist + epsilon / np.sum(g1_hist), g2_hist + epsilon / np.sum(g2_hist))\n",
        "    )  # min\n",
        "\n",
        "    g1_hist, _ = np.histogram(g1_features_data[:, 4], range=(0, len(g1.nodes())))\n",
        "    g2_hist, _ = np.histogram(g2_features_data[:, 4], range=(0, len(g1.nodes())))\n",
        "    feature_divergence[4] = np.sum(\n",
        "        rel_entr(g1_hist + epsilon / np.sum(g1_hist), g2_hist + epsilon / np.sum(g2_hist))\n",
        "    )  # range\n",
        "\n",
        "    return feature_divergence"
      ]
    },
    {
      "cell_type": "markdown",
      "source": [
        "**Original Graph**\n",
        "\n",
        "Generate random graph just for test. Later I will change this part with importing real graph."
      ],
      "metadata": {
        "id": "kma6jnhtmWuy"
      }
    },
    {
      "cell_type": "code",
      "execution_count": 60,
      "metadata": {
        "colab": {
          "base_uri": "https://localhost:8080/",
          "height": 545
        },
        "id": "je2JBIiglvTB",
        "outputId": "7907e8d9-346d-41d1-f2b5-2e951dad37b7"
      },
      "outputs": [
        {
          "output_type": "display_data",
          "data": {
            "text/plain": [
              "None"
            ]
          },
          "metadata": {}
        },
        {
          "output_type": "display_data",
          "data": {
            "text/plain": [
              "{(0, 2): {'mean': 4.0, 'median': 4.0, 'max': 3.0, 'min': 1.0, 'range': 2.0},\n",
              " (1, 2): {'mean': 4.0, 'median': 4.0, 'max': 3.0, 'min': 1.0, 'range': 2.0},\n",
              " (2, 3): {'mean': 4.0, 'median': 4.0, 'max': 3.0, 'min': 1.0, 'range': 2.0}}"
            ]
          },
          "metadata": {}
        },
        {
          "output_type": "display_data",
          "data": {
            "text/plain": [
              "{0: '0 mean:3.000 median:3.0 max:3.0 min:3.0',\n",
              " 1: '1 mean:3.000 median:3.0 max:3.0 min:3.0',\n",
              " 2: '2 mean:1.000 median:1.0 max:1.0 min:1.0',\n",
              " 3: '3 mean:3.000 median:3.0 max:3.0 min:3.0'}"
            ]
          },
          "metadata": {}
        },
        {
          "output_type": "display_data",
          "data": {
            "text/plain": [
              "<Figure size 640x480 with 1 Axes>"
            ],
            "image/png": "[encoded data removed]"
          },
          "metadata": {}
        }
      ],
      "source": [
        "# graph = read_graph_file('KKI_A.txt')\n",
        "\n",
        "rand = random.Random(0)\n",
        "graph = create_random_graph(4, 3, rand)\n",
        "add_features_to_graph(graph)\n",
        "display(draw_networkx(graph, with_labels=False))\n",
        "\n",
        "node_labels = {\n",
        "    node: f\"{node} mean:{attr['features'][0]:.3f} median:{attr['features'][1]} max:{attr['features'][2]} min:{attr['features'][3]}\"\n",
        "    for node, attr in graph.nodes(data=True)\n",
        "}\n",
        "\n",
        "edge_labels = {\n",
        "    (u, v): {\n",
        "        \"mean\": attr[\"features\"][0],\n",
        "        \"median\": attr[\"features\"][1],\n",
        "        \"max\": attr[\"features\"][2],\n",
        "        \"min\": attr[\"features\"][3],\n",
        "        \"range\": attr[\"features\"][4]\n",
        "    }\n",
        "    for u, v, attr in graph.edges(data=True)\n",
        "}\n",
        "\n",
        "display(edge_labels)\n",
        "display(node_labels)"
      ]
    },
    {
      "cell_type": "markdown",
      "source": [
        "**Complement Of Original Graph**\n"
      ],
      "metadata": {
        "id": "QJ4JwDBkmbw3"
      }
    },
    {
      "cell_type": "code",
      "execution_count": 61,
      "metadata": {
        "colab": {
          "base_uri": "https://localhost:8080/",
          "height": 545
        },
        "id": "w2O0-E-flvTC",
        "outputId": "5eabb5fa-6154-4a7c-de7c-837f6e905f5b"
      },
      "outputs": [
        {
          "output_type": "display_data",
          "data": {
            "text/plain": [
              "None"
            ]
          },
          "metadata": {}
        },
        {
          "output_type": "display_data",
          "data": {
            "text/plain": [
              "{(0, 1): {'mean': 4.0, 'median': 4.0, 'max': 2.0, 'min': 2.0, 'range': 0.0},\n",
              " (0, 3): {'mean': 4.0, 'median': 4.0, 'max': 2.0, 'min': 2.0, 'range': 0.0},\n",
              " (1, 3): {'mean': 4.0, 'median': 4.0, 'max': 2.0, 'min': 2.0, 'range': 0.0}}"
            ]
          },
          "metadata": {}
        },
        {
          "output_type": "display_data",
          "data": {
            "text/plain": [
              "{0: '0 mean:2.000 median:2.0 max:2.0 min:2.0',\n",
              " 1: '1 mean:2.000 median:2.0 max:2.0 min:2.0',\n",
              " 2: '2 mean:0.000 median:0 max:0 min:0',\n",
              " 3: '3 mean:2.000 median:2.0 max:2.0 min:2.0'}"
            ]
          },
          "metadata": {}
        },
        {
          "output_type": "display_data",
          "data": {
            "text/plain": [
              "<Figure size 640x480 with 1 Axes>"
            ],
            "image/png": "[encoded data removed]"
          },
          "metadata": {}
        }
      ],
      "source": [
        "graph_complement = nx.complement(graph)\n",
        "add_features_to_graph(graph_complement)\n",
        "display(draw_networkx(graph_complement,  with_labels=False))\n",
        "\n",
        "node_labels = {\n",
        "    node: f\"{node} mean:{attr['features'][0]:.3f} median:{attr['features'][1]} max:{attr['features'][2]} min:{attr['features'][3]}\"\n",
        "    for node, attr in graph_complement.nodes(data=True)\n",
        "}\n",
        "\n",
        "edge_labels = {\n",
        "    (u, v): {\n",
        "        \"mean\": attr[\"features\"][0],\n",
        "        \"median\": attr[\"features\"][1],\n",
        "        \"max\": attr[\"features\"][2],\n",
        "        \"min\": attr[\"features\"][3],\n",
        "        \"range\": attr[\"features\"][4]\n",
        "    }\n",
        "    for u, v, attr in graph_complement.edges(data=True)\n",
        "}\n",
        "display(edge_labels)\n",
        "display(node_labels)\n"
      ]
    },
    {
      "cell_type": "markdown",
      "source": [
        "**Simulate Graph**\n",
        "\n",
        "In this step, I generated a random graph with same node and edge number of the original graph"
      ],
      "metadata": {
        "id": "RDJE748-mfVO"
      }
    },
    {
      "cell_type": "code",
      "execution_count": 64,
      "metadata": {
        "colab": {
          "base_uri": "https://localhost:8080/"
        },
        "id": "B9ZZhUyClvTC",
        "outputId": "1c870647-c5ca-459d-a2ab-52b49f6d7303"
      },
      "outputs": [
        {
          "output_type": "stream",
          "name": "stdout",
          "text": [
            "0: G 0.0\n",
            "0: G_comp 0.0\n",
            "1: G 227.00767956559008\n",
            "1: G_comp 227.00767956559008\n",
            "2: G 227.00767956559008\n",
            "2: G_comp 227.00767956559008\n",
            "3: G 302.6769060858722\n",
            "3: G_comp 302.6769060858722\n",
            "4: G 302.6769060858722\n",
            "4: G_comp 302.6769060858722\n"
          ]
        }
      ],
      "source": [
        "rand = random.Random(0)\n",
        "\n",
        "best_G = None\n",
        "best_G_div = np.inf\n",
        "best_G_comp = None\n",
        "best_G_comp_div = np.inf\n",
        "\n",
        "for i in range(5):\n",
        "    random_graph = create_random_graph(len(graph.nodes), len(graph.edges),rand)\n",
        "    add_features_to_graph(random_graph)\n",
        "    div = np.sum(calculate_divergence(graph, random_graph))\n",
        "\n",
        "    if div < best_G_div:\n",
        "        best_G_div = div\n",
        "        best_G = random_graph\n",
        "    print(f\"{i}: G\", div)\n",
        "\n",
        "    random_graph_comp = nx.complement(random_graph)\n",
        "    add_features_to_graph(random_graph_comp)\n",
        "    div = np.sum(calculate_divergence(graph_complement, random_graph_comp))\n",
        "\n",
        "    if div < best_G_comp_div:\n",
        "        best_G_comp_div = div\n",
        "        best_G_comp = random_graph\n",
        "    print(f\"{i}: G_comp\", div)"
      ]
    },
    {
      "cell_type": "code",
      "execution_count": 65,
      "metadata": {
        "colab": {
          "base_uri": "https://localhost:8080/",
          "height": 423
        },
        "id": "qaPwpEwulvTD",
        "outputId": "ebe18f9f-16d6-4566-b1c8-b3532d9affb9"
      },
      "outputs": [
        {
          "output_type": "stream",
          "name": "stdout",
          "text": [
            "0.0\n"
          ]
        },
        {
          "output_type": "display_data",
          "data": {
            "text/plain": [
              "<Figure size 640x480 with 1 Axes>"
            ],
            "image/png": "[encoded data removed]"
          },
          "metadata": {}
        }
      ],
      "source": [
        "print(best_G_div)\n",
        "nx.draw_networkx(best_G)"
      ]
    }
  ],
  "metadata": {
    "kernelspec": {
      "display_name": "py311",
      "language": "python",
      "name": "python3"
    },
    "language_info": {
      "codemirror_mode": {
        "name": "ipython",
        "version": 3
      },
      "file_extension": ".py",
      "mimetype": "text/x-python",
      "name": "python",
      "nbconvert_exporter": "python",
      "pygments_lexer": "ipython3",
      "version": "3.11.3"
    },
    "orig_nbformat": 4,
    "colab": {
      "provenance": [],
      "toc_visible": true,
      "include_colab_link": true
    }
  },
  "nbformat": 4,
  "nbformat_minor": 0
}